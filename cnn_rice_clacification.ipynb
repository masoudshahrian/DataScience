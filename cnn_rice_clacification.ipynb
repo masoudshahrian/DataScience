{
  "nbformat": 4,
  "nbformat_minor": 0,
  "metadata": {
    "colab": {
      "provenance": [],
      "authorship_tag": "ABX9TyMBvhj1gGoiHil0HrHGwNMV",
      "include_colab_link": true
    },
    "kernelspec": {
      "name": "python3",
      "display_name": "Python 3"
    },
    "language_info": {
      "name": "python"
    }
  },
  "cells": [
    {
      "cell_type": "markdown",
      "metadata": {
        "id": "view-in-github",
        "colab_type": "text"
      },
      "source": [
        "<a href=\"https://colab.research.google.com/github/masoudshahrian/DataScience-code/blob/master/cnn_rice_clacification.ipynb\" target=\"_parent\"><img src=\"https://colab.research.google.com/assets/colab-badge.svg\" alt=\"Open In Colab\"/></a>"
      ]
    },
    {
      "cell_type": "code",
      "execution_count": null,
      "metadata": {
        "colab": {
          "base_uri": "https://localhost:8080/",
          "height": 17
        },
        "id": "P_1oj5XaRf2G",
        "outputId": "4dda95ea-0444-4c99-c9be-919628f14535"
      },
      "outputs": [
        {
          "output_type": "execute_result",
          "data": {
            "text/plain": [
              "<IPython.core.display.HTML object>"
            ],
            "text/html": [
              "<style>\n",
              "/* Table Of Contents Text */\n",
              ".text-container {\n",
              "text-align: center;\n",
              "font-size: 12px;\n",
              "margin: 5px;\n",
              "padding:5px;\n",
              "}\n",
              ".text {\n",
              "display: inline-block;\n",
              "padding: 10px 380px;\n",
              "border-top-left-radius: 60px;\n",
              "border-top-right-radius: 30px;\n",
              "border-bottom-right-radius: 60px;\n",
              "border-bottom-left-radius: 30px;\n",
              "background-color: #314644; /* Changed */\n",
              "color: #FFFFFF;\n",
              "font-weight: bold;\n",
              "font-size: 22px;\n",
              "font-family: Century Gothic;\n",
              "width: auto;\n",
              "}\n",
              "/* Buttons Below Table Of Contents */\n",
              ".button {\n",
              "display: block;\n",
              "width: 600px;\n",
              "padding: 20px 20px;\n",
              "margin: 5px auto;\n",
              "background-color: #5F6C2E;\n",
              "color: #F5FFCF;\n",
              "border: none;\n",
              "border-radius: 50px;\n",
              "text-align: center;\n",
              "text-decoration: none;\n",
              "font-size: 18px;\n",
              "font-weight:600;\n",
              "font-family:Century Gothic;\n",
              "transition: transform 0.6s ease, background-position 0s ease, color 0.3s ease;\n",
              "}\n",
              ".button:hover {\n",
              "background-image: linear-gradient(to right, #314644 0%, #314644 50%, #314644 50%);\n",
              "background-size: 300% 100%;\n",
              "background-position: 100% 0%;\n",
              "transform: scale(1.1);\n",
              "color:#FFFF00;\n",
              "}\n",
              "</style>\n"
            ]
          },
          "metadata": {},
          "execution_count": 1
        }
      ],
      "source": [
        "\n",
        "from IPython.display import HTML\n",
        "html_code = \"\"\"<style>\n",
        "/* Table Of Contents Text */\n",
        ".text-container {\n",
        "text-align: center;\n",
        "font-size: 12px;\n",
        "margin: 5px;\n",
        "padding:5px;\n",
        "}\n",
        ".text {\n",
        "display: inline-block;\n",
        "padding: 10px 380px;\n",
        "border-top-left-radius: 60px;\n",
        "border-top-right-radius: 30px;\n",
        "border-bottom-right-radius: 60px;\n",
        "border-bottom-left-radius: 30px;\n",
        "background-color: #314644; /* Changed */\n",
        "color: #FFFFFF;\n",
        "font-weight: bold;\n",
        "font-size: 22px;\n",
        "font-family: Century Gothic;\n",
        "width: auto;\n",
        "}\n",
        "/* Buttons Below Table Of Contents */\n",
        ".button {\n",
        "display: block;\n",
        "width: 600px;\n",
        "padding: 20px 20px;\n",
        "margin: 5px auto;\n",
        "background-color: #5F6C2E;\n",
        "color: #F5FFCF;\n",
        "border: none;\n",
        "border-radius: 50px;\n",
        "text-align: center;\n",
        "text-decoration: none;\n",
        "font-size: 18px;\n",
        "font-weight:600;\n",
        "font-family:Century Gothic;\n",
        "transition: transform 0.6s ease, background-position 0s ease, color 0.3s ease;\n",
        "}\n",
        ".button:hover {\n",
        "background-image: linear-gradient(to right, #314644 0%, #314644 50%, #314644 50%);\n",
        "background-size: 300% 100%;\n",
        "background-position: 100% 0%;\n",
        "transform: scale(1.1);\n",
        "color:#FFFF00;\n",
        "}\n",
        "</style>\n",
        "\"\"\"\n",
        "HTML(html_code)\n"
      ]
    },
    {
      "cell_type": "code",
      "source": [
        "# A library to avoid Python warnings\n",
        "import warnings\n",
        "warnings.filterwarnings('ignore')\n"
      ],
      "metadata": {
        "id": "ccOHIlKJR49B"
      },
      "execution_count": null,
      "outputs": []
    },
    {
      "cell_type": "code",
      "source": [
        "# Install a library to aviod Tensorflow warnings\n",
        "! pip install -q silence_tensorflow\n",
        "from silence_tensorflow import silence_tensorflow\n",
        "silence_tensorflow()\n",
        "print()\n"
      ],
      "metadata": {
        "colab": {
          "base_uri": "https://localhost:8080/"
        },
        "id": "BB-6CtU7R6My",
        "outputId": "1e5e485f-63e6-4763-fbb3-3c0292b80b63"
      },
      "execution_count": null,
      "outputs": [
        {
          "output_type": "stream",
          "name": "stdout",
          "text": [
            "  Preparing metadata (setup.py) ... \u001b[?25l\u001b[?25hdone\n",
            "  Preparing metadata (setup.py) ... \u001b[?25l\u001b[?25hdone\n",
            "  Building wheel for silence_tensorflow (setup.py) ... \u001b[?25l\u001b[?25hdone\n",
            "  Building wheel for support_developer (setup.py) ... \u001b[?25l\u001b[?25hdone\n",
            "\n"
          ]
        }
      ]
    },
    {
      "cell_type": "code",
      "source": [
        "import os\n",
        "import random as rn\n",
        "import numpy as np\n",
        "import pandas as pd\n",
        "import seaborn as sns\n",
        "import matplotlib.pyplot as plt\n",
        "import matplotlib.image as mpimg\n",
        "import plotly.express as px\n",
        "import plotly.graph_objects as go\n",
        "from sklearn.metrics import confusion_matrix, ConfusionMatrixDisplay, classification_report\n",
        "import tensorflow as tf\n",
        "from tensorflow import keras\n",
        "from tensorflow.keras import layers, models\n",
        "from tensorflow.keras.preprocessing.image import ImageDataGenerator\n",
        "from tensorflow.keras.optimizers import Adam\n",
        "from tensorflow.keras.losses import BinaryCrossentropy\n",
        "from tensorflow.keras.utils import plot_model\n",
        "from IPython.display import Image\n"
      ],
      "metadata": {
        "id": "jmFme-i5R6JM"
      },
      "execution_count": null,
      "outputs": []
    },
    {
      "cell_type": "code",
      "source": [
        "if len(tf.config.list_physical_devices('GPU')) == 0 :\n",
        "  print(f\"CPU is in used\")\n",
        "else :\n",
        "  print(f\"GPU is in used\")"
      ],
      "metadata": {
        "colab": {
          "base_uri": "https://localhost:8080/"
        },
        "id": "dckl99zJR6F5",
        "outputId": "e0e208f5-a094-4396-df4a-5ebd9d268dd1"
      },
      "execution_count": null,
      "outputs": [
        {
          "output_type": "stream",
          "name": "stdout",
          "text": [
            "CPU is in used\n"
          ]
        }
      ]
    },
    {
      "cell_type": "code",
      "source": [
        "print(f'Tensorflow Version : {tf.__version__}')"
      ],
      "metadata": {
        "colab": {
          "base_uri": "https://localhost:8080/"
        },
        "id": "qtfoAL0qR6Cc",
        "outputId": "13c9c283-8cbc-4427-e5f4-bca5c8b2117d"
      },
      "execution_count": null,
      "outputs": [
        {
          "output_type": "stream",
          "name": "stdout",
          "text": [
            "Tensorflow Version : 2.15.0\n"
          ]
        }
      ]
    },
    {
      "cell_type": "code",
      "source": [
        "root_dir = '/kaggle/input/rice-image-dataset/Rice_Image_Dataset' # root directory\n",
        "f_names = [f_name for f_name in os.listdir(root_dir)] # names of folders (or files)\n",
        "print(f\"Folder (or file) names:\\n{f_names}\")"
      ],
      "metadata": {
        "colab": {
          "base_uri": "https://localhost:8080/",
          "height": 176
        },
        "id": "-Hs4_63YR5-j",
        "outputId": "1b4bf387-b37b-4bdb-8f8c-c40a02a7306e"
      },
      "execution_count": null,
      "outputs": [
        {
          "output_type": "error",
          "ename": "FileNotFoundError",
          "evalue": "[Errno 2] No such file or directory: '/kaggle/input/rice-image-dataset/Rice_Image_Dataset'",
          "traceback": [
            "\u001b[0;31m---------------------------------------------------------------------------\u001b[0m",
            "\u001b[0;31mFileNotFoundError\u001b[0m                         Traceback (most recent call last)",
            "\u001b[0;32m<ipython-input-7-0305087af041>\u001b[0m in \u001b[0;36m<cell line: 2>\u001b[0;34m()\u001b[0m\n\u001b[1;32m      1\u001b[0m \u001b[0mroot_dir\u001b[0m \u001b[0;34m=\u001b[0m \u001b[0;34m'/kaggle/input/rice-image-dataset/Rice_Image_Dataset'\u001b[0m \u001b[0;31m# root directory\u001b[0m\u001b[0;34m\u001b[0m\u001b[0;34m\u001b[0m\u001b[0m\n\u001b[0;32m----> 2\u001b[0;31m \u001b[0mf_names\u001b[0m \u001b[0;34m=\u001b[0m \u001b[0;34m[\u001b[0m\u001b[0mf_name\u001b[0m \u001b[0;32mfor\u001b[0m \u001b[0mf_name\u001b[0m \u001b[0;32min\u001b[0m \u001b[0mos\u001b[0m\u001b[0;34m.\u001b[0m\u001b[0mlistdir\u001b[0m\u001b[0;34m(\u001b[0m\u001b[0mroot_dir\u001b[0m\u001b[0;34m)\u001b[0m\u001b[0;34m]\u001b[0m \u001b[0;31m# names of folders (or files)\u001b[0m\u001b[0;34m\u001b[0m\u001b[0;34m\u001b[0m\u001b[0m\n\u001b[0m\u001b[1;32m      3\u001b[0m \u001b[0mprint\u001b[0m\u001b[0;34m(\u001b[0m\u001b[0;34mf\"Folder (or file) names:\\n{f_names}\"\u001b[0m\u001b[0;34m)\u001b[0m\u001b[0;34m\u001b[0m\u001b[0;34m\u001b[0m\u001b[0m\n",
            "\u001b[0;31mFileNotFoundError\u001b[0m: [Errno 2] No such file or directory: '/kaggle/input/rice-image-dataset/Rice_Image_Dataset'"
          ]
        }
      ]
    },
    {
      "cell_type": "code",
      "source": [
        "f_names.remove('Rice_Citation_Request.txt')"
      ],
      "metadata": {
        "id": "44E79slNR52p"
      },
      "execution_count": null,
      "outputs": []
    },
    {
      "cell_type": "code",
      "source": [
        "from PIL import Image\n",
        "def samples_rice_images(rice_class):\n",
        "  rice_dir = os.listdir(os.path.join(root_dir, rice_class))\n",
        "  random_selection = rn.choices(rice_dir, k=5)\n",
        "  fig, axes = plt.subplots(1, 5, figsize=(20, 4))\n",
        "  for i, img_name in enumerate(random_selection):\n",
        "    img_path = os.path.join(root_dir, rice_class, img_name)\n",
        "    img = Image.open(img_path)\n",
        "    axes[i].imshow(img)\n",
        "    axes[i].axis('off')\n",
        "    plt.show()\n"
      ],
      "metadata": {
        "id": "RyvdZ9ySR5x6"
      },
      "execution_count": null,
      "outputs": []
    },
    {
      "cell_type": "code",
      "source": [
        "samples_rice_images(\"Karacadag\")"
      ],
      "metadata": {
        "id": "-7pt-RRyR5tq"
      },
      "execution_count": null,
      "outputs": []
    },
    {
      "cell_type": "code",
      "source": [
        "samples_rice_images(\"Basmati\")"
      ],
      "metadata": {
        "id": "h9D9urClR5qK"
      },
      "execution_count": null,
      "outputs": []
    },
    {
      "cell_type": "code",
      "source": [
        "samples_rice_images(\"Jasmine\")"
      ],
      "metadata": {
        "id": "5qGsUfx0R5mS"
      },
      "execution_count": null,
      "outputs": []
    },
    {
      "cell_type": "code",
      "source": [],
      "metadata": {
        "id": "cvVvCsBTR5eB"
      },
      "execution_count": null,
      "outputs": []
    }
  ]
}