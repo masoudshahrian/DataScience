{
  "nbformat": 4,
  "nbformat_minor": 0,
  "metadata": {
    "colab": {
      "provenance": [],
      "authorship_tag": "ABX9TyMXDAaE+SixFrRZbQNM/5/x",
      "include_colab_link": true
    },
    "kernelspec": {
      "name": "python3",
      "display_name": "Python 3"
    },
    "language_info": {
      "name": "python"
    },
    "widgets": {
      "application/vnd.jupyter.widget-state+json": {
        "304efd73356a4f22b004228771542713": {
          "model_module": "jupyter-cytoscape",
          "model_name": "CytoscapeModel",
          "model_module_version": "^1.3.3",
          "state": {
            "_dom_classes": [],
            "_interaction_handlers": {},
            "_model_module": "jupyter-cytoscape",
            "_model_module_version": "^1.3.3",
            "_model_name": "CytoscapeModel",
            "_view_count": null,
            "_view_module": "jupyter-cytoscape",
            "_view_module_version": "^1.3.3",
            "_view_name": "CytoscapeView",
            "auto_ungrabify": false,
            "auto_unselectify": true,
            "autolock": false,
            "box_selection_enabled": false,
            "cytoscape_layout": {
              "name": "cola"
            },
            "cytoscape_style": [
              {
                "selector": "node",
                "css": {
                  "background-color": "#11479e"
                }
              },
              {
                "selector": "node:parent",
                "css": {
                  "background-opacity": 0.333
                }
              },
              {
                "selector": "edge",
                "style": {
                  "width": 4,
                  "line-color": "#9dbaea"
                }
              },
              {
                "selector": "edge.directed",
                "style": {
                  "curve-style": "bezier",
                  "target-arrow-shape": "triangle",
                  "target-arrow-color": "#9dbaea"
                }
              },
              {
                "selector": "edge.multiple_edges",
                "style": {
                  "curve-style": "bezier"
                }
              }
            ],
            "desktop_tap_threshold": 4,
            "graph": "IPY_MODEL_7870e243623a4d179d2168fdd04fd50a",
            "headless": false,
            "hide_edges_on_viewport": false,
            "layout": "IPY_MODEL_8f61fc5170e84015bb3cc4dcd72ac42b",
            "max_zoom": 1e+50,
            "min_zoom": 1e-50,
            "motion_blur": false,
            "motion_blur_opacity": 0.2,
            "panning_enabled": true,
            "pixel_ratio": "auto",
            "rendered_position": {
              "renderedPosition": {
                "x": 100,
                "y": 100
              }
            },
            "selection_type": "single",
            "style_enabled": true,
            "texture_on_viewport": false,
            "tooltip_source": "tooltip",
            "touch_tap_threshold": 8,
            "user_panning_enabled": true,
            "user_zooming_enabled": true,
            "wheel_sensitivity": 1,
            "zoom": 2,
            "zooming_enabled": true
          }
        },
        "7870e243623a4d179d2168fdd04fd50a": {
          "model_module": "jupyter-cytoscape",
          "model_name": "GraphModel",
          "model_module_version": "^1.3.3",
          "state": {
            "_adj": {
              "1": {},
              "2": {},
              "3": {},
              "4": {},
              "5": {}
            },
            "_model_module": "jupyter-cytoscape",
            "_model_module_version": "^1.3.3",
            "_model_name": "GraphModel",
            "_view_count": null,
            "_view_module": "jupyter-cytoscape",
            "_view_module_version": "^1.3.3",
            "_view_name": null,
            "edges": [
              "IPY_MODEL_3c4f30265f4c4a4da7a86a44b7c01a05",
              "IPY_MODEL_ba852b2a09ec4c09b419d9f47a889cf1",
              "IPY_MODEL_4232c2060ea94dbf9626cd3b2f938aa3",
              "IPY_MODEL_4d2af0c7e303449ea44b4eef14564685",
              "IPY_MODEL_cb4eaed3758f4ce7ab7a1d51464d44ec",
              "IPY_MODEL_2181c26a3f734e0c9ccff52f61542330",
              "IPY_MODEL_ac36f3b81fa840b5816a9d2f14d6bdc9",
              "IPY_MODEL_2f562bc3039c4510ab570b6b45e91c46"
            ],
            "nodes": [
              "IPY_MODEL_a7e45817f45048fbaf59dc03199c6dfb",
              "IPY_MODEL_58d3ffd0c5654c2786f9c27a1acbf85b",
              "IPY_MODEL_2f0b800a53a14fdc82bb8355b51377dc",
              "IPY_MODEL_e7cb2c1b1df64e4e94da2d1118120748",
              "IPY_MODEL_ed7decda61684472b6e50114ec4d1657"
            ]
          }
        },
        "8f61fc5170e84015bb3cc4dcd72ac42b": {
          "model_module": "@jupyter-widgets/base",
          "model_name": "LayoutModel",
          "model_module_version": "1.2.0",
          "state": {
            "_model_module": "@jupyter-widgets/base",
            "_model_module_version": "1.2.0",
            "_model_name": "LayoutModel",
            "_view_count": null,
            "_view_module": "@jupyter-widgets/base",
            "_view_module_version": "1.2.0",
            "_view_name": "LayoutView",
            "align_content": null,
            "align_items": null,
            "align_self": null,
            "border": null,
            "bottom": null,
            "display": null,
            "flex": null,
            "flex_flow": null,
            "grid_area": null,
            "grid_auto_columns": null,
            "grid_auto_flow": null,
            "grid_auto_rows": null,
            "grid_column": null,
            "grid_gap": null,
            "grid_row": null,
            "grid_template_areas": null,
            "grid_template_columns": null,
            "grid_template_rows": null,
            "height": null,
            "justify_content": null,
            "justify_items": null,
            "left": null,
            "margin": null,
            "max_height": null,
            "max_width": null,
            "min_height": null,
            "min_width": null,
            "object_fit": null,
            "object_position": null,
            "order": null,
            "overflow": null,
            "overflow_x": null,
            "overflow_y": null,
            "padding": null,
            "right": null,
            "top": null,
            "visibility": null,
            "width": null
          }
        },
        "3c4f30265f4c4a4da7a86a44b7c01a05": {
          "model_module": "jupyter-cytoscape",
          "model_name": "EdgeModel",
          "model_module_version": "^1.3.3",
          "state": {
            "_model_module": "jupyter-cytoscape",
            "_model_module_version": "^1.3.3",
            "_model_name": "EdgeModel",
            "_view_count": null,
            "_view_module": "jupyter-cytoscape",
            "_view_module_version": "^1.3.3",
            "_view_name": "EdgeView",
            "classes": "",
            "data": {
              "source": "1",
              "target": "2"
            },
            "pannable": true,
            "removed": false,
            "selectable": false,
            "selected": false
          }
        },
        "ba852b2a09ec4c09b419d9f47a889cf1": {
          "model_module": "jupyter-cytoscape",
          "model_name": "EdgeModel",
          "model_module_version": "^1.3.3",
          "state": {
            "_model_module": "jupyter-cytoscape",
            "_model_module_version": "^1.3.3",
            "_model_name": "EdgeModel",
            "_view_count": null,
            "_view_module": "jupyter-cytoscape",
            "_view_module_version": "^1.3.3",
            "_view_name": "EdgeView",
            "classes": "",
            "data": {
              "source": "1",
              "target": "3"
            },
            "pannable": true,
            "removed": false,
            "selectable": false,
            "selected": false
          }
        },
        "4232c2060ea94dbf9626cd3b2f938aa3": {
          "model_module": "jupyter-cytoscape",
          "model_name": "EdgeModel",
          "model_module_version": "^1.3.3",
          "state": {
            "_model_module": "jupyter-cytoscape",
            "_model_module_version": "^1.3.3",
            "_model_name": "EdgeModel",
            "_view_count": null,
            "_view_module": "jupyter-cytoscape",
            "_view_module_version": "^1.3.3",
            "_view_name": "EdgeView",
            "classes": "",
            "data": {
              "source": "1",
              "target": "4"
            },
            "pannable": true,
            "removed": false,
            "selectable": false,
            "selected": false
          }
        },
        "4d2af0c7e303449ea44b4eef14564685": {
          "model_module": "jupyter-cytoscape",
          "model_name": "EdgeModel",
          "model_module_version": "^1.3.3",
          "state": {
            "_model_module": "jupyter-cytoscape",
            "_model_module_version": "^1.3.3",
            "_model_name": "EdgeModel",
            "_view_count": null,
            "_view_module": "jupyter-cytoscape",
            "_view_module_version": "^1.3.3",
            "_view_name": "EdgeView",
            "classes": "",
            "data": {
              "source": "2",
              "target": "3"
            },
            "pannable": true,
            "removed": false,
            "selectable": false,
            "selected": false
          }
        },
        "cb4eaed3758f4ce7ab7a1d51464d44ec": {
          "model_module": "jupyter-cytoscape",
          "model_name": "EdgeModel",
          "model_module_version": "^1.3.3",
          "state": {
            "_model_module": "jupyter-cytoscape",
            "_model_module_version": "^1.3.3",
            "_model_name": "EdgeModel",
            "_view_count": null,
            "_view_module": "jupyter-cytoscape",
            "_view_module_version": "^1.3.3",
            "_view_name": "EdgeView",
            "classes": "",
            "data": {
              "source": "2",
              "target": "4"
            },
            "pannable": true,
            "removed": false,
            "selectable": false,
            "selected": false
          }
        },
        "2181c26a3f734e0c9ccff52f61542330": {
          "model_module": "jupyter-cytoscape",
          "model_name": "EdgeModel",
          "model_module_version": "^1.3.3",
          "state": {
            "_model_module": "jupyter-cytoscape",
            "_model_module_version": "^1.3.3",
            "_model_name": "EdgeModel",
            "_view_count": null,
            "_view_module": "jupyter-cytoscape",
            "_view_module_version": "^1.3.3",
            "_view_name": "EdgeView",
            "classes": "",
            "data": {
              "source": "3",
              "target": "5"
            },
            "pannable": true,
            "removed": false,
            "selectable": false,
            "selected": false
          }
        },
        "ac36f3b81fa840b5816a9d2f14d6bdc9": {
          "model_module": "jupyter-cytoscape",
          "model_name": "EdgeModel",
          "model_module_version": "^1.3.3",
          "state": {
            "_model_module": "jupyter-cytoscape",
            "_model_module_version": "^1.3.3",
            "_model_name": "EdgeModel",
            "_view_count": null,
            "_view_module": "jupyter-cytoscape",
            "_view_module_version": "^1.3.3",
            "_view_name": "EdgeView",
            "classes": "",
            "data": {
              "source": "3",
              "target": "4"
            },
            "pannable": true,
            "removed": false,
            "selectable": false,
            "selected": false
          }
        },
        "2f562bc3039c4510ab570b6b45e91c46": {
          "model_module": "jupyter-cytoscape",
          "model_name": "EdgeModel",
          "model_module_version": "^1.3.3",
          "state": {
            "_model_module": "jupyter-cytoscape",
            "_model_module_version": "^1.3.3",
            "_model_name": "EdgeModel",
            "_view_count": null,
            "_view_module": "jupyter-cytoscape",
            "_view_module_version": "^1.3.3",
            "_view_name": "EdgeView",
            "classes": "",
            "data": {
              "source": "5",
              "target": "4"
            },
            "pannable": true,
            "removed": false,
            "selectable": false,
            "selected": false
          }
        },
        "a7e45817f45048fbaf59dc03199c6dfb": {
          "model_module": "jupyter-cytoscape",
          "model_name": "NodeModel",
          "model_module_version": "^1.3.3",
          "state": {
            "_model_module": "jupyter-cytoscape",
            "_model_module_version": "^1.3.3",
            "_model_name": "NodeModel",
            "_view_count": null,
            "_view_module": "jupyter-cytoscape",
            "_view_module_version": "^1.3.3",
            "_view_name": "NodeView",
            "classes": "",
            "data": {
              "id": "1"
            },
            "grabbable": true,
            "grabbed": false,
            "locked": false,
            "pannable": false,
            "position": {},
            "removed": false,
            "selectable": false,
            "selected": false
          }
        },
        "58d3ffd0c5654c2786f9c27a1acbf85b": {
          "model_module": "jupyter-cytoscape",
          "model_name": "NodeModel",
          "model_module_version": "^1.3.3",
          "state": {
            "_model_module": "jupyter-cytoscape",
            "_model_module_version": "^1.3.3",
            "_model_name": "NodeModel",
            "_view_count": null,
            "_view_module": "jupyter-cytoscape",
            "_view_module_version": "^1.3.3",
            "_view_name": "NodeView",
            "classes": "",
            "data": {
              "id": "2"
            },
            "grabbable": true,
            "grabbed": false,
            "locked": false,
            "pannable": false,
            "position": {},
            "removed": false,
            "selectable": false,
            "selected": false
          }
        },
        "2f0b800a53a14fdc82bb8355b51377dc": {
          "model_module": "jupyter-cytoscape",
          "model_name": "NodeModel",
          "model_module_version": "^1.3.3",
          "state": {
            "_model_module": "jupyter-cytoscape",
            "_model_module_version": "^1.3.3",
            "_model_name": "NodeModel",
            "_view_count": null,
            "_view_module": "jupyter-cytoscape",
            "_view_module_version": "^1.3.3",
            "_view_name": "NodeView",
            "classes": "",
            "data": {
              "id": "3"
            },
            "grabbable": true,
            "grabbed": false,
            "locked": false,
            "pannable": false,
            "position": {},
            "removed": false,
            "selectable": false,
            "selected": false
          }
        },
        "e7cb2c1b1df64e4e94da2d1118120748": {
          "model_module": "jupyter-cytoscape",
          "model_name": "NodeModel",
          "model_module_version": "^1.3.3",
          "state": {
            "_model_module": "jupyter-cytoscape",
            "_model_module_version": "^1.3.3",
            "_model_name": "NodeModel",
            "_view_count": null,
            "_view_module": "jupyter-cytoscape",
            "_view_module_version": "^1.3.3",
            "_view_name": "NodeView",
            "classes": "",
            "data": {
              "id": "5"
            },
            "grabbable": true,
            "grabbed": false,
            "locked": false,
            "pannable": false,
            "position": {},
            "removed": false,
            "selectable": false,
            "selected": false
          }
        },
        "ed7decda61684472b6e50114ec4d1657": {
          "model_module": "jupyter-cytoscape",
          "model_name": "NodeModel",
          "model_module_version": "^1.3.3",
          "state": {
            "_model_module": "jupyter-cytoscape",
            "_model_module_version": "^1.3.3",
            "_model_name": "NodeModel",
            "_view_count": null,
            "_view_module": "jupyter-cytoscape",
            "_view_module_version": "^1.3.3",
            "_view_name": "NodeView",
            "classes": "",
            "data": {
              "id": "4"
            },
            "grabbable": true,
            "grabbed": false,
            "locked": false,
            "pannable": false,
            "position": {},
            "removed": false,
            "selectable": false,
            "selected": false
          }
        }
      }
    }
  },
  "cells": [
    {
      "cell_type": "markdown",
      "metadata": {
        "id": "view-in-github",
        "colab_type": "text"
      },
      "source": [
        "<a href=\"https://colab.research.google.com/github/masoudshahrian/DataScience/blob/master/Connect_python_to_cytoscape_for_displaying_graph.ipynb\" target=\"_parent\"><img src=\"https://colab.research.google.com/assets/colab-badge.svg\" alt=\"Open In Colab\"/></a>"
      ]
    },
    {
      "cell_type": "code",
      "execution_count": 2,
      "metadata": {
        "id": "sTOogPCdYbdX",
        "colab": {
          "base_uri": "https://localhost:8080/"
        },
        "outputId": "c7d4c77d-4738-4d4f-c3ea-c754594a8d32"
      },
      "outputs": [
        {
          "output_type": "stream",
          "name": "stdout",
          "text": [
            "Requirement already satisfied: networkx in /usr/local/lib/python3.10/dist-packages (3.4.2)\n",
            "Collecting ipycytoscape\n",
            "  Downloading ipycytoscape-1.3.3-py2.py3-none-any.whl.metadata (7.5 kB)\n",
            "Requirement already satisfied: ipywidgets>=7.6.0 in /usr/local/lib/python3.10/dist-packages (from ipycytoscape) (7.7.1)\n",
            "Collecting spectate>=1.0.0 (from ipycytoscape)\n",
            "  Downloading spectate-1.0.1-py2.py3-none-any.whl.metadata (2.2 kB)\n",
            "Requirement already satisfied: ipykernel>=4.5.1 in /usr/local/lib/python3.10/dist-packages (from ipywidgets>=7.6.0->ipycytoscape) (5.5.6)\n",
            "Requirement already satisfied: ipython-genutils~=0.2.0 in /usr/local/lib/python3.10/dist-packages (from ipywidgets>=7.6.0->ipycytoscape) (0.2.0)\n",
            "Requirement already satisfied: traitlets>=4.3.1 in /usr/local/lib/python3.10/dist-packages (from ipywidgets>=7.6.0->ipycytoscape) (5.7.1)\n",
            "Requirement already satisfied: widgetsnbextension~=3.6.0 in /usr/local/lib/python3.10/dist-packages (from ipywidgets>=7.6.0->ipycytoscape) (3.6.10)\n",
            "Requirement already satisfied: ipython>=4.0.0 in /usr/local/lib/python3.10/dist-packages (from ipywidgets>=7.6.0->ipycytoscape) (7.34.0)\n",
            "Requirement already satisfied: jupyterlab-widgets>=1.0.0 in /usr/local/lib/python3.10/dist-packages (from ipywidgets>=7.6.0->ipycytoscape) (3.0.13)\n",
            "Requirement already satisfied: jupyter-client in /usr/local/lib/python3.10/dist-packages (from ipykernel>=4.5.1->ipywidgets>=7.6.0->ipycytoscape) (6.1.12)\n",
            "Requirement already satisfied: tornado>=4.2 in /usr/local/lib/python3.10/dist-packages (from ipykernel>=4.5.1->ipywidgets>=7.6.0->ipycytoscape) (6.3.3)\n",
            "Requirement already satisfied: setuptools>=18.5 in /usr/local/lib/python3.10/dist-packages (from ipython>=4.0.0->ipywidgets>=7.6.0->ipycytoscape) (75.1.0)\n",
            "Collecting jedi>=0.16 (from ipython>=4.0.0->ipywidgets>=7.6.0->ipycytoscape)\n",
            "  Downloading jedi-0.19.1-py2.py3-none-any.whl.metadata (22 kB)\n",
            "Requirement already satisfied: decorator in /usr/local/lib/python3.10/dist-packages (from ipython>=4.0.0->ipywidgets>=7.6.0->ipycytoscape) (4.4.2)\n",
            "Requirement already satisfied: pickleshare in /usr/local/lib/python3.10/dist-packages (from ipython>=4.0.0->ipywidgets>=7.6.0->ipycytoscape) (0.7.5)\n",
            "Requirement already satisfied: prompt-toolkit!=3.0.0,!=3.0.1,<3.1.0,>=2.0.0 in /usr/local/lib/python3.10/dist-packages (from ipython>=4.0.0->ipywidgets>=7.6.0->ipycytoscape) (3.0.48)\n",
            "Requirement already satisfied: pygments in /usr/local/lib/python3.10/dist-packages (from ipython>=4.0.0->ipywidgets>=7.6.0->ipycytoscape) (2.18.0)\n",
            "Requirement already satisfied: backcall in /usr/local/lib/python3.10/dist-packages (from ipython>=4.0.0->ipywidgets>=7.6.0->ipycytoscape) (0.2.0)\n",
            "Requirement already satisfied: matplotlib-inline in /usr/local/lib/python3.10/dist-packages (from ipython>=4.0.0->ipywidgets>=7.6.0->ipycytoscape) (0.1.7)\n",
            "Requirement already satisfied: pexpect>4.3 in /usr/local/lib/python3.10/dist-packages (from ipython>=4.0.0->ipywidgets>=7.6.0->ipycytoscape) (4.9.0)\n",
            "Requirement already satisfied: notebook>=4.4.1 in /usr/local/lib/python3.10/dist-packages (from widgetsnbextension~=3.6.0->ipywidgets>=7.6.0->ipycytoscape) (6.5.5)\n",
            "Requirement already satisfied: parso<0.9.0,>=0.8.3 in /usr/local/lib/python3.10/dist-packages (from jedi>=0.16->ipython>=4.0.0->ipywidgets>=7.6.0->ipycytoscape) (0.8.4)\n",
            "Requirement already satisfied: jinja2 in /usr/local/lib/python3.10/dist-packages (from notebook>=4.4.1->widgetsnbextension~=3.6.0->ipywidgets>=7.6.0->ipycytoscape) (3.1.4)\n",
            "Requirement already satisfied: pyzmq<25,>=17 in /usr/local/lib/python3.10/dist-packages (from notebook>=4.4.1->widgetsnbextension~=3.6.0->ipywidgets>=7.6.0->ipycytoscape) (24.0.1)\n",
            "Requirement already satisfied: argon2-cffi in /usr/local/lib/python3.10/dist-packages (from notebook>=4.4.1->widgetsnbextension~=3.6.0->ipywidgets>=7.6.0->ipycytoscape) (23.1.0)\n",
            "Requirement already satisfied: jupyter-core>=4.6.1 in /usr/local/lib/python3.10/dist-packages (from notebook>=4.4.1->widgetsnbextension~=3.6.0->ipywidgets>=7.6.0->ipycytoscape) (5.7.2)\n",
            "Requirement already satisfied: nbformat in /usr/local/lib/python3.10/dist-packages (from notebook>=4.4.1->widgetsnbextension~=3.6.0->ipywidgets>=7.6.0->ipycytoscape) (5.10.4)\n",
            "Requirement already satisfied: nbconvert>=5 in /usr/local/lib/python3.10/dist-packages (from notebook>=4.4.1->widgetsnbextension~=3.6.0->ipywidgets>=7.6.0->ipycytoscape) (7.16.4)\n",
            "Requirement already satisfied: nest-asyncio>=1.5 in /usr/local/lib/python3.10/dist-packages (from notebook>=4.4.1->widgetsnbextension~=3.6.0->ipywidgets>=7.6.0->ipycytoscape) (1.6.0)\n",
            "Requirement already satisfied: Send2Trash>=1.8.0 in /usr/local/lib/python3.10/dist-packages (from notebook>=4.4.1->widgetsnbextension~=3.6.0->ipywidgets>=7.6.0->ipycytoscape) (1.8.3)\n",
            "Requirement already satisfied: terminado>=0.8.3 in /usr/local/lib/python3.10/dist-packages (from notebook>=4.4.1->widgetsnbextension~=3.6.0->ipywidgets>=7.6.0->ipycytoscape) (0.18.1)\n",
            "Requirement already satisfied: prometheus-client in /usr/local/lib/python3.10/dist-packages (from notebook>=4.4.1->widgetsnbextension~=3.6.0->ipywidgets>=7.6.0->ipycytoscape) (0.21.0)\n",
            "Requirement already satisfied: nbclassic>=0.4.7 in /usr/local/lib/python3.10/dist-packages (from notebook>=4.4.1->widgetsnbextension~=3.6.0->ipywidgets>=7.6.0->ipycytoscape) (1.1.0)\n",
            "Requirement already satisfied: python-dateutil>=2.1 in /usr/local/lib/python3.10/dist-packages (from jupyter-client->ipykernel>=4.5.1->ipywidgets>=7.6.0->ipycytoscape) (2.8.2)\n",
            "Requirement already satisfied: ptyprocess>=0.5 in /usr/local/lib/python3.10/dist-packages (from pexpect>4.3->ipython>=4.0.0->ipywidgets>=7.6.0->ipycytoscape) (0.7.0)\n",
            "Requirement already satisfied: wcwidth in /usr/local/lib/python3.10/dist-packages (from prompt-toolkit!=3.0.0,!=3.0.1,<3.1.0,>=2.0.0->ipython>=4.0.0->ipywidgets>=7.6.0->ipycytoscape) (0.2.13)\n",
            "Requirement already satisfied: platformdirs>=2.5 in /usr/local/lib/python3.10/dist-packages (from jupyter-core>=4.6.1->notebook>=4.4.1->widgetsnbextension~=3.6.0->ipywidgets>=7.6.0->ipycytoscape) (4.3.6)\n",
            "Requirement already satisfied: notebook-shim>=0.2.3 in /usr/local/lib/python3.10/dist-packages (from nbclassic>=0.4.7->notebook>=4.4.1->widgetsnbextension~=3.6.0->ipywidgets>=7.6.0->ipycytoscape) (0.2.4)\n",
            "Requirement already satisfied: beautifulsoup4 in /usr/local/lib/python3.10/dist-packages (from nbconvert>=5->notebook>=4.4.1->widgetsnbextension~=3.6.0->ipywidgets>=7.6.0->ipycytoscape) (4.12.3)\n",
            "Requirement already satisfied: bleach!=5.0.0 in /usr/local/lib/python3.10/dist-packages (from nbconvert>=5->notebook>=4.4.1->widgetsnbextension~=3.6.0->ipywidgets>=7.6.0->ipycytoscape) (6.2.0)\n",
            "Requirement already satisfied: defusedxml in /usr/local/lib/python3.10/dist-packages (from nbconvert>=5->notebook>=4.4.1->widgetsnbextension~=3.6.0->ipywidgets>=7.6.0->ipycytoscape) (0.7.1)\n",
            "Requirement already satisfied: jupyterlab-pygments in /usr/local/lib/python3.10/dist-packages (from nbconvert>=5->notebook>=4.4.1->widgetsnbextension~=3.6.0->ipywidgets>=7.6.0->ipycytoscape) (0.3.0)\n",
            "Requirement already satisfied: markupsafe>=2.0 in /usr/local/lib/python3.10/dist-packages (from nbconvert>=5->notebook>=4.4.1->widgetsnbextension~=3.6.0->ipywidgets>=7.6.0->ipycytoscape) (3.0.2)\n",
            "Requirement already satisfied: mistune<4,>=2.0.3 in /usr/local/lib/python3.10/dist-packages (from nbconvert>=5->notebook>=4.4.1->widgetsnbextension~=3.6.0->ipywidgets>=7.6.0->ipycytoscape) (3.0.2)\n",
            "Requirement already satisfied: nbclient>=0.5.0 in /usr/local/lib/python3.10/dist-packages (from nbconvert>=5->notebook>=4.4.1->widgetsnbextension~=3.6.0->ipywidgets>=7.6.0->ipycytoscape) (0.10.0)\n",
            "Requirement already satisfied: packaging in /usr/local/lib/python3.10/dist-packages (from nbconvert>=5->notebook>=4.4.1->widgetsnbextension~=3.6.0->ipywidgets>=7.6.0->ipycytoscape) (24.1)\n",
            "Requirement already satisfied: pandocfilters>=1.4.1 in /usr/local/lib/python3.10/dist-packages (from nbconvert>=5->notebook>=4.4.1->widgetsnbextension~=3.6.0->ipywidgets>=7.6.0->ipycytoscape) (1.5.1)\n",
            "Requirement already satisfied: tinycss2 in /usr/local/lib/python3.10/dist-packages (from nbconvert>=5->notebook>=4.4.1->widgetsnbextension~=3.6.0->ipywidgets>=7.6.0->ipycytoscape) (1.4.0)\n",
            "Requirement already satisfied: fastjsonschema>=2.15 in /usr/local/lib/python3.10/dist-packages (from nbformat->notebook>=4.4.1->widgetsnbextension~=3.6.0->ipywidgets>=7.6.0->ipycytoscape) (2.20.0)\n",
            "Requirement already satisfied: jsonschema>=2.6 in /usr/local/lib/python3.10/dist-packages (from nbformat->notebook>=4.4.1->widgetsnbextension~=3.6.0->ipywidgets>=7.6.0->ipycytoscape) (4.23.0)\n",
            "Requirement already satisfied: six>=1.5 in /usr/local/lib/python3.10/dist-packages (from python-dateutil>=2.1->jupyter-client->ipykernel>=4.5.1->ipywidgets>=7.6.0->ipycytoscape) (1.16.0)\n",
            "Requirement already satisfied: argon2-cffi-bindings in /usr/local/lib/python3.10/dist-packages (from argon2-cffi->notebook>=4.4.1->widgetsnbextension~=3.6.0->ipywidgets>=7.6.0->ipycytoscape) (21.2.0)\n",
            "Requirement already satisfied: webencodings in /usr/local/lib/python3.10/dist-packages (from bleach!=5.0.0->nbconvert>=5->notebook>=4.4.1->widgetsnbextension~=3.6.0->ipywidgets>=7.6.0->ipycytoscape) (0.5.1)\n",
            "Requirement already satisfied: attrs>=22.2.0 in /usr/local/lib/python3.10/dist-packages (from jsonschema>=2.6->nbformat->notebook>=4.4.1->widgetsnbextension~=3.6.0->ipywidgets>=7.6.0->ipycytoscape) (24.2.0)\n",
            "Requirement already satisfied: jsonschema-specifications>=2023.03.6 in /usr/local/lib/python3.10/dist-packages (from jsonschema>=2.6->nbformat->notebook>=4.4.1->widgetsnbextension~=3.6.0->ipywidgets>=7.6.0->ipycytoscape) (2024.10.1)\n",
            "Requirement already satisfied: referencing>=0.28.4 in /usr/local/lib/python3.10/dist-packages (from jsonschema>=2.6->nbformat->notebook>=4.4.1->widgetsnbextension~=3.6.0->ipywidgets>=7.6.0->ipycytoscape) (0.35.1)\n",
            "Requirement already satisfied: rpds-py>=0.7.1 in /usr/local/lib/python3.10/dist-packages (from jsonschema>=2.6->nbformat->notebook>=4.4.1->widgetsnbextension~=3.6.0->ipywidgets>=7.6.0->ipycytoscape) (0.20.0)\n",
            "Requirement already satisfied: jupyter-server<3,>=1.8 in /usr/local/lib/python3.10/dist-packages (from notebook-shim>=0.2.3->nbclassic>=0.4.7->notebook>=4.4.1->widgetsnbextension~=3.6.0->ipywidgets>=7.6.0->ipycytoscape) (1.24.0)\n",
            "Requirement already satisfied: cffi>=1.0.1 in /usr/local/lib/python3.10/dist-packages (from argon2-cffi-bindings->argon2-cffi->notebook>=4.4.1->widgetsnbextension~=3.6.0->ipywidgets>=7.6.0->ipycytoscape) (1.17.1)\n",
            "Requirement already satisfied: soupsieve>1.2 in /usr/local/lib/python3.10/dist-packages (from beautifulsoup4->nbconvert>=5->notebook>=4.4.1->widgetsnbextension~=3.6.0->ipywidgets>=7.6.0->ipycytoscape) (2.6)\n",
            "Requirement already satisfied: pycparser in /usr/local/lib/python3.10/dist-packages (from cffi>=1.0.1->argon2-cffi-bindings->argon2-cffi->notebook>=4.4.1->widgetsnbextension~=3.6.0->ipywidgets>=7.6.0->ipycytoscape) (2.22)\n",
            "Requirement already satisfied: anyio<4,>=3.1.0 in /usr/local/lib/python3.10/dist-packages (from jupyter-server<3,>=1.8->notebook-shim>=0.2.3->nbclassic>=0.4.7->notebook>=4.4.1->widgetsnbextension~=3.6.0->ipywidgets>=7.6.0->ipycytoscape) (3.7.1)\n",
            "Requirement already satisfied: websocket-client in /usr/local/lib/python3.10/dist-packages (from jupyter-server<3,>=1.8->notebook-shim>=0.2.3->nbclassic>=0.4.7->notebook>=4.4.1->widgetsnbextension~=3.6.0->ipywidgets>=7.6.0->ipycytoscape) (1.8.0)\n",
            "Requirement already satisfied: idna>=2.8 in /usr/local/lib/python3.10/dist-packages (from anyio<4,>=3.1.0->jupyter-server<3,>=1.8->notebook-shim>=0.2.3->nbclassic>=0.4.7->notebook>=4.4.1->widgetsnbextension~=3.6.0->ipywidgets>=7.6.0->ipycytoscape) (3.10)\n",
            "Requirement already satisfied: sniffio>=1.1 in /usr/local/lib/python3.10/dist-packages (from anyio<4,>=3.1.0->jupyter-server<3,>=1.8->notebook-shim>=0.2.3->nbclassic>=0.4.7->notebook>=4.4.1->widgetsnbextension~=3.6.0->ipywidgets>=7.6.0->ipycytoscape) (1.3.1)\n",
            "Requirement already satisfied: exceptiongroup in /usr/local/lib/python3.10/dist-packages (from anyio<4,>=3.1.0->jupyter-server<3,>=1.8->notebook-shim>=0.2.3->nbclassic>=0.4.7->notebook>=4.4.1->widgetsnbextension~=3.6.0->ipywidgets>=7.6.0->ipycytoscape) (1.2.2)\n",
            "Downloading ipycytoscape-1.3.3-py2.py3-none-any.whl (3.6 MB)\n",
            "\u001b[2K   \u001b[90m━━━━━━━━━━━━━━━━━━━━━━━━━━━━━━━━━━━━━━━━\u001b[0m \u001b[32m3.6/3.6 MB\u001b[0m \u001b[31m55.0 MB/s\u001b[0m eta \u001b[36m0:00:00\u001b[0m\n",
            "\u001b[?25hDownloading spectate-1.0.1-py2.py3-none-any.whl (11 kB)\n",
            "Downloading jedi-0.19.1-py2.py3-none-any.whl (1.6 MB)\n",
            "\u001b[2K   \u001b[90m━━━━━━━━━━━━━━━━━━━━━━━━━━━━━━━━━━━━━━━━\u001b[0m \u001b[32m1.6/1.6 MB\u001b[0m \u001b[31m55.4 MB/s\u001b[0m eta \u001b[36m0:00:00\u001b[0m\n",
            "\u001b[?25hInstalling collected packages: spectate, jedi, ipycytoscape\n",
            "Successfully installed ipycytoscape-1.3.3 jedi-0.19.1 spectate-1.0.1\n"
          ]
        }
      ],
      "source": [
        "#how to link python code to cytoscape\n",
        "\n",
        "!pip install networkx\n",
        "!pip install ipycytoscape"
      ]
    },
    {
      "cell_type": "code",
      "source": [
        "import networkx as nx\n",
        "import ipycytoscape\n",
        "from IPython.display import display\n",
        "from google.colab import output\n",
        "output.enable_custom_widget_manager()\n"
      ],
      "metadata": {
        "id": "o3qvE9jnZEnZ"
      },
      "execution_count": 3,
      "outputs": []
    },
    {
      "cell_type": "code",
      "source": [
        "G=nx.Graph()\n",
        "G.add_edges_from([(1,2),(2,3),(3,5),(3,4),(4,5),(1,3),(2,4),(4,1)])\n",
        "cyto=ipycytoscape.CytoscapeWidget()\n",
        "cyto.graph.add_graph_from_networkx(G)\n",
        "\n"
      ],
      "metadata": {
        "id": "cX-rGRLHZE3P"
      },
      "execution_count": 4,
      "outputs": []
    },
    {
      "cell_type": "code",
      "source": [
        "display(cyto)"
      ],
      "metadata": {
        "colab": {
          "base_uri": "https://localhost:8080/",
          "height": 417,
          "referenced_widgets": [
            "304efd73356a4f22b004228771542713",
            "7870e243623a4d179d2168fdd04fd50a",
            "8f61fc5170e84015bb3cc4dcd72ac42b",
            "3c4f30265f4c4a4da7a86a44b7c01a05",
            "ba852b2a09ec4c09b419d9f47a889cf1",
            "4232c2060ea94dbf9626cd3b2f938aa3",
            "4d2af0c7e303449ea44b4eef14564685",
            "cb4eaed3758f4ce7ab7a1d51464d44ec",
            "2181c26a3f734e0c9ccff52f61542330",
            "ac36f3b81fa840b5816a9d2f14d6bdc9",
            "2f562bc3039c4510ab570b6b45e91c46",
            "a7e45817f45048fbaf59dc03199c6dfb",
            "58d3ffd0c5654c2786f9c27a1acbf85b",
            "2f0b800a53a14fdc82bb8355b51377dc",
            "e7cb2c1b1df64e4e94da2d1118120748",
            "ed7decda61684472b6e50114ec4d1657"
          ]
        },
        "id": "u-Xfq1TXZE7H",
        "outputId": "9de93e53-3ee8-4d95-858e-bdfba480ec96"
      },
      "execution_count": 5,
      "outputs": [
        {
          "output_type": "display_data",
          "data": {
            "text/plain": [
              "CytoscapeWidget(cytoscape_layout={'name': 'cola'}, cytoscape_style=[{'selector': 'node', 'css': {'background-c…"
            ],
            "application/vnd.jupyter.widget-view+json": {
              "version_major": 2,
              "version_minor": 0,
              "model_id": "304efd73356a4f22b004228771542713"
            }
          },
          "metadata": {
            "application/vnd.jupyter.widget-view+json": {
              "colab": {
                "custom_widget_manager": {
                  "url": "https://ssl.gstatic.com/colaboratory-static/widgets/colab-cdn-widget-manager/2b70e893a8ba7c0f/manager.min.js"
                }
              }
            }
          }
        }
      ]
    },
    {
      "cell_type": "code",
      "source": [],
      "metadata": {
        "id": "bhA2BFfGZE-M"
      },
      "execution_count": null,
      "outputs": []
    },
    {
      "cell_type": "markdown",
      "source": [
        "Support for third party widgets will remain active for the duration of the session. To disable support:"
      ],
      "metadata": {
        "id": "0_GHk8IAapc8"
      }
    },
    {
      "cell_type": "markdown",
      "source": [
        "Support for third party widgets will remain active for the duration of the session. To disable support:"
      ],
      "metadata": {
        "id": "mJmcGKu2avxZ"
      }
    },
    {
      "cell_type": "markdown",
      "source": [
        "Support for third party widgets will remain active for the duration of the session. To disable support:"
      ],
      "metadata": {
        "id": "vc3MeXcmavip"
      }
    },
    {
      "cell_type": "markdown",
      "source": [
        "Support for third party widgets will remain active for the duration of the session. To disable support:"
      ],
      "metadata": {
        "id": "7dfjxaFbavI4"
      }
    },
    {
      "cell_type": "code",
      "source": [],
      "metadata": {
        "id": "qXF1ZtxKZFBj"
      },
      "execution_count": null,
      "outputs": []
    },
    {
      "cell_type": "code",
      "source": [],
      "metadata": {
        "id": "kyexWiJJZFEw"
      },
      "execution_count": null,
      "outputs": []
    }
  ]
}